{
  "nbformat": 4,
  "nbformat_minor": 0,
  "metadata": {
    "colab": {
      "name": "Working with Tesnors.ipynb",
      "provenance": [],
      "authorship_tag": "ABX9TyOnAjOE+FOYYf2OOtV39JiS",
      "include_colab_link": true
    },
    "kernelspec": {
      "name": "python3",
      "display_name": "Python 3"
    },
    "language_info": {
      "name": "python"
    }
  },
  "cells": [
    {
      "cell_type": "markdown",
      "metadata": {
        "id": "view-in-github",
        "colab_type": "text"
      },
      "source": [
        "<a href=\"https://colab.research.google.com/github/mcfatbeard57/Python-Scripts/blob/master/Working_with_Tesnors.ipynb\" target=\"_parent\"><img src=\"https://colab.research.google.com/assets/colab-badge.svg\" alt=\"Open In Colab\"/></a>"
      ]
    },
    {
      "cell_type": "markdown",
      "metadata": {
        "id": "8sFM8i0T2Rze"
      },
      "source": [
        "Working with Tesnors\n",
        "Basic tensors "
      ]
    },
    {
      "cell_type": "code",
      "metadata": {
        "id": "gUiKSR7E2Pvv"
      },
      "source": [
        ""
      ],
      "execution_count": null,
      "outputs": []
    }
  ]
}